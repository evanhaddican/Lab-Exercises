{
 "cells": [
  {
   "cell_type": "code",
   "execution_count": 10,
   "id": "3fa7c30e",
   "metadata": {},
   "outputs": [],
   "source": [
    "from tkinter import *\n",
    "import requests\n",
    "import random"
   ]
  },
  {
   "cell_type": "markdown",
   "id": "82db9752",
   "metadata": {},
   "source": [
    "### Part 1"
   ]
  },
  {
   "cell_type": "code",
   "execution_count": 2,
   "id": "2b5e801b",
   "metadata": {},
   "outputs": [],
   "source": [
    "root = Tk()\n",
    "root.title(\"Authors\")\n",
    "root.geometry(\"600x600\")\n",
    "\n",
    "url = \"https://api.quotable.io/authors\"\n",
    "content = requests.get(url).json()\n",
    "item_list = []\n",
    "\n",
    "for i in range(0,4):\n",
    "    results = content['results']\n",
    "    x = random.randint(1,19)\n",
    "    entry = results[x]\n",
    "    author_ = entry['name']\n",
    "    item_list.append(author_)\n",
    "\n",
    "\n",
    "def getAuthor():\n",
    "    author1 = value.get()\n",
    "    url = f\"https://api.quotable.io/quotes?author={author1}\"\n",
    "    content = requests.get(url).json()\n",
    "    results = content[\"results\"]\n",
    "    entry = results[0]\n",
    "    author = entry[\"author\"]\n",
    "    quote = entry[\"content\"]\n",
    "    q = f\"{quote} – {author}\"\n",
    "    text = Text(root)\n",
    "    w = text.insert(INSERT, q,)\n",
    "    text.place(x=\"20\",y=\"100\")\n",
    "    \n",
    "    \n",
    "value = StringVar()\n",
    "value.set(\"Select an author\")\n",
    "dropdown = OptionMenu(root, value,*item_list)\n",
    "\n",
    "\n",
    "choose_button = Button(root, text=\"Click to choose\", command=getAuthor)\n",
    "\n",
    "dropdown.pack()\n",
    "choose_button.pack()\n",
    "\n",
    "root.mainloop()"
   ]
  },
  {
   "cell_type": "markdown",
   "id": "42335bc0",
   "metadata": {},
   "source": [
    "### Part 2"
   ]
  },
  {
   "cell_type": "code",
   "execution_count": 11,
   "id": "cf3b1ab6",
   "metadata": {},
   "outputs": [],
   "source": [
    "root = Tk()\n",
    "root.title(\"7 Day Forecast\")\n",
    "root.geometry(\"600x600\")\n",
    "\n",
    "lat = \"42.0987\"\n",
    "lon = \"-75.9125\"\n",
    "\n",
    "genius = requests.get(f\"https://api.weather.gov/points/{lat},{lon}\")\n",
    "json_file = genius.json()\n",
    "\n",
    "forecast = json_file[\"properties\"][\"forecast\"]\n",
    "x = requests.get(forecast)\n",
    "json = x.json()\n",
    "\n",
    "frames = []\n",
    "\n",
    "for f in range(7):\n",
    "    frame = Frame(root)\n",
    "    frame.pack()\n",
    "    frames.append(frame)\n",
    "    \n",
    "a = json[\"properties\"][\"periods\"]\n",
    "\n",
    "for i in a[:7]:\n",
    "    \n",
    "    day = i['number']\n",
    "    temp = i[\"temperature\"]\n",
    "    description = i[\"shortForecast\"]\n",
    "    \n",
    "    myLabel1 = Label(root, text=f\"Day {day}: {temp}ºF – {description}\")\n",
    "    myLabel1.pack()\n",
    "    \n",
    "v = DoubleVar()  \n",
    "\n",
    "myLabel2 = Label(root, text=\"\")\n",
    "myLabel2.pack()\n",
    "\n",
    "myLabel3 = Label(root, text=\"What does the temperature feel like today?\")\n",
    "myLabel3.pack()\n",
    "\n",
    "#My new widget is scale\n",
    "scale = Scale(root, variable=v, from_=1, to=100, orient=HORIZONTAL)  \n",
    "scale.pack(anchor=CENTER)  \n",
    "\n",
    "root.mainloop()"
   ]
  }
 ],
 "metadata": {
  "kernelspec": {
   "display_name": "Python 3 (ipykernel)",
   "language": "python",
   "name": "python3"
  },
  "language_info": {
   "codemirror_mode": {
    "name": "ipython",
    "version": 3
   },
   "file_extension": ".py",
   "mimetype": "text/x-python",
   "name": "python",
   "nbconvert_exporter": "python",
   "pygments_lexer": "ipython3",
   "version": "3.9.13"
  }
 },
 "nbformat": 4,
 "nbformat_minor": 5
}
