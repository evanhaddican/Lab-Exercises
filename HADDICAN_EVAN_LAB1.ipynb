{
 "cells": [
  {
   "cell_type": "code",
   "execution_count": 36,
   "id": "f7e31273",
   "metadata": {},
   "outputs": [
    {
     "name": "stdout",
     "output_type": "stream",
     "text": [
      "chestnut\n"
     ]
    }
   ],
   "source": [
    "1. \n",
    "wordlist = [\"apple\", \"chestnut\", \"gargoyle\", \"pandas\", \"sheep\", \"raptor\"]\n",
    "word = {1:\"\"}\n",
    "def longest(d):\n",
    "    for item in d:\n",
    "        if len(item) > len(word[1]):\n",
    "            word[1]=item\n",
    "    print(word[1])\n",
    "longest(wordlist)"
   ]
  },
  {
   "cell_type": "code",
   "execution_count": 37,
   "id": "c8a7aa0d",
   "metadata": {},
   "outputs": [
    {
     "name": "stdout",
     "output_type": "stream",
     "text": [
      "STATS\n",
      "VIZSLAS\n",
      "ENTWINEMENTS\n"
     ]
    }
   ],
   "source": [
    "2.\n",
    "import random\n",
    "bop = \"sowpods.txt\"\n",
    "\n",
    "def wordgenerator():\n",
    "    filename = bop\n",
    "    f = open(filename, \"r\", encoding = \"utf8\")\n",
    "    words = f.readlines()\n",
    "    f.close\n",
    "    \n",
    "    return random.choice(words).strip()\n",
    "\n",
    "a = wordgenerator()\n",
    "b = wordgenerator()\n",
    "c = wordgenerator()\n",
    "d = wordgenerator()\n",
    "e = wordgenerator()\n",
    "f = wordgenerator()\n",
    "g = wordgenerator()\n",
    "\n",
    "wordlist = [a, b, c, d ,e, f, g]\n",
    "word = {1:\"\"}\n",
    "def longest(m):\n",
    "    for item in m:\n",
    "        if len(item) > len(word[1]):\n",
    "            word[1]=item\n",
    "            print(word[1])\n",
    "longest(wordlist)"
   ]
  },
  {
   "cell_type": "code",
   "execution_count": 18,
   "id": "347097a8",
   "metadata": {},
   "outputs": [
    {
     "name": "stdout",
     "output_type": "stream",
     "text": [
      "dict_keys(['James', 'Charles', 'Jennifer', 'Carlos', 'Maria', 'Pablo'])\n",
      "{10: 2, 12: 2, 8: 1, 11: 1, 9: 1}\n"
     ]
    }
   ],
   "source": [
    "3.\n",
    "def summercamp():\n",
    "    campers = {\"Kaylee\": 10, \"James\": 12, \"Charles\": 10, \"Jennifer\": 8, \"Carlos\": 11, \"Maria\": 12, \"Pablo\": 9}\n",
    "    names = campers.keys()\n",
    "    ages = {}\n",
    "    for i in campers.values():\n",
    "        if i not in ages:\n",
    "            ages.update({i:1})\n",
    "        else:\n",
    "            ages[i]+=1\n",
    "    campers.pop(\"Kaylee\")\n",
    "    print(names)\n",
    "    print(ages)\n",
    "    \n",
    "summercamp()"
   ]
  },
  {
   "cell_type": "code",
   "execution_count": 74,
   "id": "661ceb19",
   "metadata": {},
   "outputs": [
    {
     "data": {
      "text/plain": [
       "'gato'"
      ]
     },
     "execution_count": 74,
     "metadata": {},
     "output_type": "execute_result"
    }
   ],
   "source": [
    "4.\n",
    "class Flashcards:\n",
    "    dict = {\"cat\": \"gato\", \"dog\": \"perro\", \"man\": \"hombre\", \"woman\": \"mujer\"}\n",
    "    \n",
    "    def __init__(self, word, english=None, spanish=None):\n",
    "        self.word = word\n",
    "        self.english = english\n",
    "        self.spanish = spanish\n",
    "    \n",
    "    def view(self):\n",
    "        return self.dict.get(self.word) \n",
    "        \n",
    "    def create(self):\n",
    "        self.dict[self.english]=self.spanish\n",
    "\n",
    "x = Flashcards(\"cat\",\"\",\"\")\n",
    "x.view()"
   ]
  },
  {
   "cell_type": "code",
   "execution_count": 78,
   "id": "62aa0627",
   "metadata": {},
   "outputs": [
    {
     "name": "stdout",
     "output_type": "stream",
     "text": [
      "____Guess a charactere\n",
      "e\n",
      "Wrong\n",
      "You have 7 more guesses\n",
      "____Guess a charactergrass\n",
      "egrass\n",
      "Wrong\n",
      "You have 6 more guesses\n",
      "_r_gGuess a characterfrog\n",
      "egrassfrog\n",
      "frogYou win\n"
     ]
    }
   ],
   "source": [
    "5.\n",
    "import random\n",
    "wordlist = [\"frog\", \"grass\", \"phone\", \"creature\", \"phenome\", \"ape\"]\n",
    "word = random.choice(wordlist)\n",
    "guesses = \"\"\n",
    "chances = 8\n",
    "\n",
    "while chances > 0:\n",
    "    fails = 0\n",
    "    for letter in word:\n",
    "        if letter in guesses:\n",
    "            print(letter,end=\"\")\n",
    "        else:\n",
    "            print(\"_\",end=\"\")\n",
    "            fails +=1\n",
    "    \n",
    "    if fails == 0:\n",
    "        print(\"You win\")\n",
    "        break\n",
    "        \n",
    "    guess = input(\"Guess a character\")\n",
    "    guesses += guess\n",
    "    print(guesses)                 \n",
    "\n",
    "    if guess not in word:\n",
    "        chances -= 1        \n",
    "        print (\"Wrong\")  \n",
    "        print (\"You have\", + chances, \"more guesses\")\n",
    "\n",
    "        if chances == 0:\n",
    "            print (\"You Lose\")"
   ]
  }
 ],
 "metadata": {
  "kernelspec": {
   "display_name": "Python 3 (ipykernel)",
   "language": "python",
   "name": "python3"
  },
  "language_info": {
   "codemirror_mode": {
    "name": "ipython",
    "version": 3
   },
   "file_extension": ".py",
   "mimetype": "text/x-python",
   "name": "python",
   "nbconvert_exporter": "python",
   "pygments_lexer": "ipython3",
   "version": "3.9.13"
  }
 },
 "nbformat": 4,
 "nbformat_minor": 5
}
